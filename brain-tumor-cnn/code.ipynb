{
 "cells": [
  {
   "cell_type": "markdown",
   "metadata": {},
   "source": [
    "<font size=\"5\">Importing Libaries</font>"
   ]
  },
  {
   "cell_type": "code",
   "execution_count": 1,
   "metadata": {},
   "outputs": [],
   "source": [
    "import pathlib\n",
    "import splitfolders\n",
    "from keras.preprocessing.image import ImageDataGenerator\n",
    "import cv2\n",
    "import os"
   ]
  },
  {
   "cell_type": "markdown",
   "metadata": {},
   "source": [
    "<font size=\"5\">Preprocessing</font>"
   ]
  },
  {
   "cell_type": "code",
   "execution_count": 2,
   "metadata": {},
   "outputs": [
    {
     "data": {
      "text/plain": [
       "WindowsPath('data')"
      ]
     },
     "execution_count": 2,
     "metadata": {},
     "output_type": "execute_result"
    }
   ],
   "source": [
    "data_bs = './data/'\n",
    "data_bs = pathlib.Path(data_bs)\n",
    "data_bs"
   ]
  },
  {
   "cell_type": "code",
   "execution_count": 3,
   "metadata": {},
   "outputs": [
    {
     "name": "stderr",
     "output_type": "stream",
     "text": [
      "Copying files: 7023 files [00:10, 656.91 files/s]\n"
     ]
    }
   ],
   "source": [
    "splitfolders.ratio(data_bs, output='Imgs/', seed=123, ratio=(0.7, 0.15, 0.15), group_prefix=None)"
   ]
  },
  {
   "attachments": {},
   "cell_type": "markdown",
   "metadata": {},
   "source": [
    "<font size=\"5\">Creating train_ds, test_ds and val_ds files</font>"
   ]
  },
  {
   "cell_type": "code",
   "execution_count": null,
   "metadata": {},
   "outputs": [],
   "source": [
    "<font size=\"5\">Creating train_ds, test_ds and val_ds files</font>"
   ]
  },
  {
   "cell_type": "code",
   "execution_count": 4,
   "metadata": {},
   "outputs": [
    {
     "name": "stdout",
     "output_type": "stream",
     "text": [
      "Found 4914 images belonging to 4 classes.\n",
      "Found 1057 images belonging to 4 classes.\n",
      "Found 1052 images belonging to 4 classes.\n"
     ]
    }
   ],
   "source": [
    "batch_size = 32\n",
    "img_height, img_width = 32, 32\n",
    "input_shape = (img_height, img_width, 1)\n",
    "\n",
    "datagen = ImageDataGenerator(rescale=1.0 / 255)\n",
    "\n",
    "train_ds = datagen.flow_from_directory('Imgs/train/', target_size=(img_height, img_width), subset='training', class_mode='categorical',color_mode=\"grayscale\", batch_size=batch_size)\n",
    "\n",
    "test_ds = datagen.flow_from_directory('Imgs/test/', target_size=(img_height, img_width), shuffle=False, class_mode='categorical',color_mode=\"grayscale\", batch_size=batch_size)\n",
    "\n",
    "val_ds = datagen.flow_from_directory('Imgs/val/', target_size=(img_height, img_width), shuffle=False, class_mode='categorical',color_mode=\"grayscale\", batch_size=batch_size)"
   ]
  },
  {
   "attachments": {},
   "cell_type": "markdown",
   "metadata": {},
   "source": [
    "<font size=\"5\">Importing Libaries</font>"
   ]
  },
  {
   "cell_type": "code",
   "execution_count": 5,
   "metadata": {},
   "outputs": [],
   "source": [
    "# Import Numpy and Matplotlib\n",
    "import numpy as np\n",
    "import matplotlib.pyplot as plt\n",
    "import pathlib, os, random\n",
    "\n",
    "# Import TensorFlow\n",
    "import tensorflow as tf\n",
    "from tensorflow import keras\n",
    "from tensorflow.keras.models import Sequential\n",
    "from tensorflow.keras.layers import Dense, Flatten, Conv2D, MaxPooling2D, Dropout\n",
    "from tensorflow.keras.layers import BatchNormalization\n",
    "from tensorflow.keras.preprocessing.image import ImageDataGenerator\n",
    "from tensorflow.keras.optimizers import Adam, SGD\n",
    "from tensorflow.keras.callbacks import EarlyStopping, ReduceLROnPlateau, ModelCheckpoint"
   ]
  },
  {
   "attachments": {},
   "cell_type": "markdown",
   "metadata": {},
   "source": [
    "<font size=\"5\">Creating Models</font>"
   ]
  },
  {
   "cell_type": "code",
   "execution_count": 6,
   "metadata": {},
   "outputs": [],
   "source": [
    "model1 = Sequential()\n",
    "\n",
    "model1.add(Conv2D(32,(3,3), input_shape=input_shape, activation='relu'))\n",
    "model1.add(BatchNormalization())\n",
    "model1.add(MaxPooling2D(pool_size=(2,2)))\n",
    "\n",
    "model1.add(Conv2D(32,(3,3), activation='relu'))\n",
    "model1.add(BatchNormalization())\n",
    "model1.add(MaxPooling2D(pool_size=(2,2)))\n",
    "\n",
    "model1.add(Flatten())\n",
    "\n",
    "model1.add(Dense(units= 252, activation='relu'))\n",
    "model1.add(Dropout(0.2))\n",
    "model1.add(Dense(units=252, activation='relu'))\n",
    "model1.add(Dropout(0.2))\n",
    "model1.add(Dense(units=4, activation='softmax'))"
   ]
  },
  {
   "cell_type": "code",
   "execution_count": 7,
   "metadata": {},
   "outputs": [],
   "source": [
    "model1.compile(optimizer=\"adam\", loss='categorical_crossentropy',\n",
    "                   metrics= ['categorical_accuracy'])"
   ]
  },
  {
   "cell_type": "code",
   "execution_count": 8,
   "metadata": {},
   "outputs": [],
   "source": [
    "model2 = Sequential()\n",
    "\n",
    "model2.add(Conv2D(32,(3,3), input_shape=input_shape, activation='relu'))\n",
    "model2.add(BatchNormalization())\n",
    "model2.add(MaxPooling2D(pool_size=(2,2)))\n",
    "\n",
    "model2.add(Conv2D(32,(3,3), activation='relu'))\n",
    "model2.add(BatchNormalization())\n",
    "model2.add(MaxPooling2D(pool_size=(2,2)))\n",
    "\n",
    "model2.add(Conv2D(32,(3,3), activation='relu'))\n",
    "model2.add(BatchNormalization())\n",
    "model2.add(MaxPooling2D(pool_size=(2,2)))\n",
    "\n",
    "model2.add(Flatten())\n",
    "\n",
    "model2.add(Dense(units= 252, activation='relu'))\n",
    "model2.add(Dropout(0.2))\n",
    "\n",
    "model2.add(Dense(units=252, activation='relu'))\n",
    "model2.add(Dropout(0.2))\n",
    "\n",
    "model2.add(Dense(units=252, activation='relu'))\n",
    "model2.add(Dropout(0.2))\n",
    "\n",
    "model2.add(Dense(units=4, activation='softmax'))"
   ]
  },
  {
   "cell_type": "code",
   "execution_count": 9,
   "metadata": {},
   "outputs": [],
   "source": [
    "model2.compile(optimizer=\"adam\", loss='categorical_crossentropy',\n",
    "                   metrics= ['categorical_accuracy'])"
   ]
  },
  {
   "cell_type": "code",
   "execution_count": 10,
   "metadata": {},
   "outputs": [],
   "source": [
    "model3 = Sequential()\n",
    "\n",
    "model3.add(Conv2D(32,(3,3), input_shape=input_shape, activation='relu'))\n",
    "model3.add(BatchNormalization())\n",
    "model3.add(MaxPooling2D(pool_size=(2,2)))\n",
    "\n",
    "model3.add(Conv2D(64,(3,3), activation='relu'))\n",
    "model3.add(BatchNormalization())\n",
    "model3.add(MaxPooling2D(pool_size=(2,2)))\n",
    "\n",
    "model3.add(Conv2D(32,(3,3), activation='relu'))\n",
    "model3.add(BatchNormalization())\n",
    "model3.add(MaxPooling2D(pool_size=(2,2)))\n",
    "\n",
    "model3.add(Flatten())\n",
    "\n",
    "model3.add(Dense(units= 252, activation='relu'))\n",
    "model3.add(Dropout(0.2))\n",
    "model3.add(Dense(units=252, activation='relu'))\n",
    "model3.add(Dropout(0.2))\n",
    "model3.add(Dense(units=4, activation='softmax'))"
   ]
  },
  {
   "cell_type": "code",
   "execution_count": 11,
   "metadata": {},
   "outputs": [],
   "source": [
    "model3.compile(optimizer=\"adam\", loss='categorical_crossentropy',\n",
    "                   metrics= ['categorical_accuracy'])"
   ]
  },
  {
   "attachments": {},
   "cell_type": "markdown",
   "metadata": {},
   "source": [
    "<font size=\"5\">Creating Learning Rate Function</font>"
   ]
  },
  {
   "cell_type": "code",
   "execution_count": 12,
   "metadata": {},
   "outputs": [],
   "source": [
    "lr = 0.01\n",
    "def learning_rate(epoch):\n",
    "    global lr\n",
    "    if epoch>8:\n",
    "        return lr*.1\n",
    "    else:\n",
    "        return lr"
   ]
  },
  {
   "attachments": {},
   "cell_type": "markdown",
   "metadata": {},
   "source": [
    "<font size=\"5\">Fitting Model</font>"
   ]
  },
  {
   "cell_type": "code",
   "execution_count": 13,
   "metadata": {},
   "outputs": [
    {
     "name": "stdout",
     "output_type": "stream",
     "text": [
      "Epoch 1/50\n",
      "154/154 [==============================] - 35s 203ms/step - loss: 1.2378 - categorical_accuracy: 0.6508 - val_loss: 2.6397 - val_categorical_accuracy: 0.3375 - lr: 0.0100\n",
      "Epoch 2/50\n",
      "154/154 [==============================] - 11s 72ms/step - loss: 0.6613 - categorical_accuracy: 0.7387 - val_loss: 1.0310 - val_categorical_accuracy: 0.5675 - lr: 0.0100\n",
      "Epoch 3/50\n",
      "154/154 [==============================] - 10s 64ms/step - loss: 0.5770 - categorical_accuracy: 0.7837 - val_loss: 0.6008 - val_categorical_accuracy: 0.7576 - lr: 0.0100\n",
      "Epoch 4/50\n",
      "154/154 [==============================] - 10s 65ms/step - loss: 0.4984 - categorical_accuracy: 0.8097 - val_loss: 0.6941 - val_categorical_accuracy: 0.7319 - lr: 0.0100\n",
      "Epoch 5/50\n",
      "154/154 [==============================] - 10s 64ms/step - loss: 0.4518 - categorical_accuracy: 0.8431 - val_loss: 0.4631 - val_categorical_accuracy: 0.7956 - lr: 0.0100\n",
      "Epoch 6/50\n",
      "154/154 [==============================] - 10s 64ms/step - loss: 0.4295 - categorical_accuracy: 0.8378 - val_loss: 0.4108 - val_categorical_accuracy: 0.8289 - lr: 0.0100\n",
      "Epoch 7/50\n",
      "154/154 [==============================] - 10s 63ms/step - loss: 0.3420 - categorical_accuracy: 0.8702 - val_loss: 0.4976 - val_categorical_accuracy: 0.7956 - lr: 0.0100\n",
      "Epoch 8/50\n",
      "154/154 [==============================] - 10s 64ms/step - loss: 0.3402 - categorical_accuracy: 0.8791 - val_loss: 0.3594 - val_categorical_accuracy: 0.8565 - lr: 0.0100\n",
      "Epoch 9/50\n",
      "154/154 [==============================] - 10s 66ms/step - loss: 0.2945 - categorical_accuracy: 0.8893 - val_loss: 0.6263 - val_categorical_accuracy: 0.8004 - lr: 0.0100\n",
      "Epoch 10/50\n",
      "154/154 [==============================] - 10s 65ms/step - loss: 0.2018 - categorical_accuracy: 0.9217 - val_loss: 0.2417 - val_categorical_accuracy: 0.9002 - lr: 0.0010\n",
      "Epoch 11/50\n",
      "154/154 [==============================] - 10s 65ms/step - loss: 0.1616 - categorical_accuracy: 0.9363 - val_loss: 0.2179 - val_categorical_accuracy: 0.9202 - lr: 0.0010\n",
      "Epoch 12/50\n",
      "154/154 [==============================] - 10s 66ms/step - loss: 0.1473 - categorical_accuracy: 0.9432 - val_loss: 0.2159 - val_categorical_accuracy: 0.9173 - lr: 0.0010\n",
      "Epoch 13/50\n",
      "154/154 [==============================] - 10s 65ms/step - loss: 0.1381 - categorical_accuracy: 0.9479 - val_loss: 0.2297 - val_categorical_accuracy: 0.9135 - lr: 0.0010\n",
      "Epoch 14/50\n",
      "154/154 [==============================] - 10s 65ms/step - loss: 0.1263 - categorical_accuracy: 0.9530 - val_loss: 0.2099 - val_categorical_accuracy: 0.9240 - lr: 0.0010\n",
      "Epoch 15/50\n",
      "154/154 [==============================] - 10s 65ms/step - loss: 0.1154 - categorical_accuracy: 0.9567 - val_loss: 0.2087 - val_categorical_accuracy: 0.9221 - lr: 0.0010\n",
      "Epoch 16/50\n",
      "154/154 [==============================] - 10s 65ms/step - loss: 0.1182 - categorical_accuracy: 0.9556 - val_loss: 0.2531 - val_categorical_accuracy: 0.9106 - lr: 0.0010\n",
      "Epoch 17/50\n",
      "154/154 [==============================] - 10s 64ms/step - loss: 0.1038 - categorical_accuracy: 0.9595 - val_loss: 0.2126 - val_categorical_accuracy: 0.9240 - lr: 0.0010\n",
      "Epoch 18/50\n",
      "154/154 [==============================] - 10s 64ms/step - loss: 0.1111 - categorical_accuracy: 0.9560 - val_loss: 0.2550 - val_categorical_accuracy: 0.9154 - lr: 0.0010\n",
      "Epoch 19/50\n",
      "154/154 [==============================] - 10s 64ms/step - loss: 0.0897 - categorical_accuracy: 0.9676 - val_loss: 0.2261 - val_categorical_accuracy: 0.9306 - lr: 0.0010\n",
      "Epoch 20/50\n",
      "154/154 [==============================] - 10s 65ms/step - loss: 0.0841 - categorical_accuracy: 0.9699 - val_loss: 0.2509 - val_categorical_accuracy: 0.9325 - lr: 0.0010\n",
      "Epoch 21/50\n",
      "154/154 [==============================] - 10s 65ms/step - loss: 0.0808 - categorical_accuracy: 0.9705 - val_loss: 0.2485 - val_categorical_accuracy: 0.9173 - lr: 0.0010\n"
     ]
    }
   ],
   "source": [
    "results1 = model1.fit(train_ds,epochs=50,validation_data=val_ds,callbacks=[tf.keras.callbacks.EarlyStopping(monitor='val_loss',patience=6)\n",
    "                                                                                        ,tf.keras.callbacks.LearningRateScheduler(learning_rate)])"
   ]
  },
  {
   "cell_type": "code",
   "execution_count": 14,
   "metadata": {},
   "outputs": [
    {
     "name": "stdout",
     "output_type": "stream",
     "text": [
      "Epoch 1/50\n",
      "154/154 [==============================] - 12s 68ms/step - loss: 0.9664 - categorical_accuracy: 0.6394 - val_loss: 1.7089 - val_categorical_accuracy: 0.2719 - lr: 0.0100\n",
      "Epoch 2/50\n",
      "154/154 [==============================] - 10s 63ms/step - loss: 0.7228 - categorical_accuracy: 0.7316 - val_loss: 1.3462 - val_categorical_accuracy: 0.6093 - lr: 0.0100\n",
      "Epoch 3/50\n",
      "154/154 [==============================] - 10s 64ms/step - loss: 0.5896 - categorical_accuracy: 0.7825 - val_loss: 0.7176 - val_categorical_accuracy: 0.7367 - lr: 0.0100\n",
      "Epoch 4/50\n",
      "154/154 [==============================] - 10s 64ms/step - loss: 0.5268 - categorical_accuracy: 0.8057 - val_loss: 0.7340 - val_categorical_accuracy: 0.6949 - lr: 0.0100\n",
      "Epoch 5/50\n",
      "154/154 [==============================] - 10s 66ms/step - loss: 0.4830 - categorical_accuracy: 0.8221 - val_loss: 0.5419 - val_categorical_accuracy: 0.8099 - lr: 0.0100\n",
      "Epoch 6/50\n",
      "154/154 [==============================] - 11s 72ms/step - loss: 0.4125 - categorical_accuracy: 0.8510 - val_loss: 0.7003 - val_categorical_accuracy: 0.7243 - lr: 0.0100\n",
      "Epoch 7/50\n",
      "154/154 [==============================] - 11s 68ms/step - loss: 0.3846 - categorical_accuracy: 0.8632 - val_loss: 0.7711 - val_categorical_accuracy: 0.8070 - lr: 0.0100\n",
      "Epoch 8/50\n",
      "154/154 [==============================] - 11s 70ms/step - loss: 0.3471 - categorical_accuracy: 0.8812 - val_loss: 0.7328 - val_categorical_accuracy: 0.7177 - lr: 0.0100\n",
      "Epoch 9/50\n",
      "154/154 [==============================] - 10s 67ms/step - loss: 0.3718 - categorical_accuracy: 0.8714 - val_loss: 0.3726 - val_categorical_accuracy: 0.8935 - lr: 0.0100\n",
      "Epoch 10/50\n",
      "154/154 [==============================] - 10s 65ms/step - loss: 0.2112 - categorical_accuracy: 0.9253 - val_loss: 0.2678 - val_categorical_accuracy: 0.9106 - lr: 0.0010\n",
      "Epoch 11/50\n",
      "154/154 [==============================] - 10s 66ms/step - loss: 0.1755 - categorical_accuracy: 0.9326 - val_loss: 0.2568 - val_categorical_accuracy: 0.9106 - lr: 0.0010\n",
      "Epoch 12/50\n",
      "154/154 [==============================] - 10s 67ms/step - loss: 0.1487 - categorical_accuracy: 0.9465 - val_loss: 0.2899 - val_categorical_accuracy: 0.9021 - lr: 0.0010\n",
      "Epoch 13/50\n",
      "154/154 [==============================] - 10s 67ms/step - loss: 0.1382 - categorical_accuracy: 0.9493 - val_loss: 0.2460 - val_categorical_accuracy: 0.9202 - lr: 0.0010\n",
      "Epoch 14/50\n",
      "154/154 [==============================] - 10s 65ms/step - loss: 0.1273 - categorical_accuracy: 0.9554 - val_loss: 0.2558 - val_categorical_accuracy: 0.9154 - lr: 0.0010\n",
      "Epoch 15/50\n",
      "154/154 [==============================] - 10s 65ms/step - loss: 0.1185 - categorical_accuracy: 0.9595 - val_loss: 0.2582 - val_categorical_accuracy: 0.9163 - lr: 0.0010\n",
      "Epoch 16/50\n",
      "154/154 [==============================] - 10s 65ms/step - loss: 0.1057 - categorical_accuracy: 0.9630 - val_loss: 0.2310 - val_categorical_accuracy: 0.9325 - lr: 0.0010\n",
      "Epoch 17/50\n",
      "154/154 [==============================] - 12s 76ms/step - loss: 0.0913 - categorical_accuracy: 0.9670 - val_loss: 0.2890 - val_categorical_accuracy: 0.9135 - lr: 0.0010\n",
      "Epoch 18/50\n",
      "154/154 [==============================] - 10s 66ms/step - loss: 0.0864 - categorical_accuracy: 0.9689 - val_loss: 0.2672 - val_categorical_accuracy: 0.9297 - lr: 0.0010\n",
      "Epoch 19/50\n",
      "154/154 [==============================] - 10s 65ms/step - loss: 0.0846 - categorical_accuracy: 0.9699 - val_loss: 0.2513 - val_categorical_accuracy: 0.9306 - lr: 0.0010\n",
      "Epoch 20/50\n",
      "154/154 [==============================] - 10s 64ms/step - loss: 0.0821 - categorical_accuracy: 0.9733 - val_loss: 0.2834 - val_categorical_accuracy: 0.9221 - lr: 0.0010\n",
      "Epoch 21/50\n",
      "154/154 [==============================] - 10s 64ms/step - loss: 0.0762 - categorical_accuracy: 0.9733 - val_loss: 0.2589 - val_categorical_accuracy: 0.9306 - lr: 0.0010\n",
      "Epoch 22/50\n",
      "154/154 [==============================] - 10s 64ms/step - loss: 0.0667 - categorical_accuracy: 0.9790 - val_loss: 0.3333 - val_categorical_accuracy: 0.9078 - lr: 0.0010\n"
     ]
    }
   ],
   "source": [
    "results2 = model2.fit(train_ds,epochs=50,validation_data=val_ds,callbacks=[tf.keras.callbacks.EarlyStopping(monitor='val_loss',patience=6)\n",
    "                                                                                        ,tf.keras.callbacks.LearningRateScheduler(learning_rate)])"
   ]
  },
  {
   "cell_type": "code",
   "execution_count": 15,
   "metadata": {},
   "outputs": [
    {
     "name": "stdout",
     "output_type": "stream",
     "text": [
      "Epoch 1/50\n",
      "154/154 [==============================] - 11s 66ms/step - loss: 0.8366 - categorical_accuracy: 0.6838 - val_loss: 5.2637 - val_categorical_accuracy: 0.2852 - lr: 0.0100\n",
      "Epoch 2/50\n",
      "154/154 [==============================] - 9s 61ms/step - loss: 0.5643 - categorical_accuracy: 0.7814 - val_loss: 1.7793 - val_categorical_accuracy: 0.4591 - lr: 0.0100\n",
      "Epoch 3/50\n",
      "154/154 [==============================] - 9s 61ms/step - loss: 0.4738 - categorical_accuracy: 0.8248 - val_loss: 1.2135 - val_categorical_accuracy: 0.6255 - lr: 0.0100\n",
      "Epoch 4/50\n",
      "154/154 [==============================] - 10s 66ms/step - loss: 0.3965 - categorical_accuracy: 0.8580 - val_loss: 0.4577 - val_categorical_accuracy: 0.8603 - lr: 0.0100\n",
      "Epoch 5/50\n",
      "154/154 [==============================] - 10s 65ms/step - loss: 0.3393 - categorical_accuracy: 0.8746 - val_loss: 0.4020 - val_categorical_accuracy: 0.8337 - lr: 0.0100\n",
      "Epoch 6/50\n",
      "154/154 [==============================] - 10s 63ms/step - loss: 0.2859 - categorical_accuracy: 0.8936 - val_loss: 0.7797 - val_categorical_accuracy: 0.7319 - lr: 0.0100\n",
      "Epoch 7/50\n",
      "154/154 [==============================] - 10s 63ms/step - loss: 0.2618 - categorical_accuracy: 0.9066 - val_loss: 0.6837 - val_categorical_accuracy: 0.8356 - lr: 0.0100\n",
      "Epoch 8/50\n",
      "154/154 [==============================] - 10s 64ms/step - loss: 0.2187 - categorical_accuracy: 0.9217 - val_loss: 1.2657 - val_categorical_accuracy: 0.6331 - lr: 0.0100\n",
      "Epoch 9/50\n",
      "154/154 [==============================] - 10s 64ms/step - loss: 0.2185 - categorical_accuracy: 0.9227 - val_loss: 0.7182 - val_categorical_accuracy: 0.7709 - lr: 0.0100\n",
      "Epoch 10/50\n",
      "154/154 [==============================] - 10s 64ms/step - loss: 0.1231 - categorical_accuracy: 0.9550 - val_loss: 0.2176 - val_categorical_accuracy: 0.9259 - lr: 0.0010\n",
      "Epoch 11/50\n",
      "154/154 [==============================] - 10s 64ms/step - loss: 0.0822 - categorical_accuracy: 0.9719 - val_loss: 0.2217 - val_categorical_accuracy: 0.9230 - lr: 0.0010\n",
      "Epoch 12/50\n",
      "154/154 [==============================] - 10s 64ms/step - loss: 0.0731 - categorical_accuracy: 0.9762 - val_loss: 0.2188 - val_categorical_accuracy: 0.9306 - lr: 0.0010\n",
      "Epoch 13/50\n",
      "154/154 [==============================] - 10s 64ms/step - loss: 0.0571 - categorical_accuracy: 0.9788 - val_loss: 0.2236 - val_categorical_accuracy: 0.9278 - lr: 0.0010\n",
      "Epoch 14/50\n",
      "154/154 [==============================] - 10s 64ms/step - loss: 0.0404 - categorical_accuracy: 0.9866 - val_loss: 0.2311 - val_categorical_accuracy: 0.9316 - lr: 0.0010\n",
      "Epoch 15/50\n",
      "154/154 [==============================] - 10s 64ms/step - loss: 0.0412 - categorical_accuracy: 0.9841 - val_loss: 0.2680 - val_categorical_accuracy: 0.9268 - lr: 0.0010\n",
      "Epoch 16/50\n",
      "154/154 [==============================] - 10s 64ms/step - loss: 0.0354 - categorical_accuracy: 0.9888 - val_loss: 0.2399 - val_categorical_accuracy: 0.9373 - lr: 0.0010\n"
     ]
    }
   ],
   "source": [
    "results3 = model3.fit(train_ds,epochs=50,validation_data=val_ds,callbacks=[tf.keras.callbacks.EarlyStopping(monitor='val_loss',patience=6)\n",
    "                                                                                        ,tf.keras.callbacks.LearningRateScheduler(learning_rate)])"
   ]
  },
  {
   "attachments": {},
   "cell_type": "markdown",
   "metadata": {},
   "source": [
    "<font size=\"5\">Plotting Metrices</font>"
   ]
  },
  {
   "cell_type": "code",
   "execution_count": 16,
   "metadata": {},
   "outputs": [
    {
     "data": {
      "image/png": "[encoded data removed]",
      "text/plain": [
       "<Figure size 432x288 with 1 Axes>"
      ]
     },
     "metadata": {
      "needs_background": "light"
     },
     "output_type": "display_data"
    }
   ],
   "source": [
    "plt.plot(results1.history[\"loss\"], label=\"Loss\")\n",
    "\n",
    "# Plot the the validation loss\n",
    "plt.plot(results1.history[\"val_loss\"], label=\"Validation Loss\")\n",
    "\n",
    "# Name the x and y axises\n",
    "plt.xlabel(\"Epochs\")\n",
    "plt.ylabel(\"Loss\")\n",
    "\n",
    "# Put legend table\n",
    "plt.legend()\n",
    "\n",
    "# Show the plot\n",
    "plt.show()"
   ]
  },
  {
   "cell_type": "code",
   "execution_count": 17,
   "metadata": {},
   "outputs": [
    {
     "data": {
      "image/png": "[encoded data removed]",
      "text/plain": [
       "<Figure size 432x288 with 1 Axes>"
      ]
     },
     "metadata": {
      "needs_background": "light"
     },
     "output_type": "display_data"
    }
   ],
   "source": [
    "plt.plot(results2.history[\"loss\"], label=\"Loss\")\n",
    "\n",
    "# Plot the the validation loss\n",
    "plt.plot(results2.history[\"val_loss\"], label=\"Validation Loss\")\n",
    "\n",
    "# Name the x and y axises\n",
    "plt.xlabel(\"Epochs\")\n",
    "plt.ylabel(\"Loss\")\n",
    "\n",
    "# Put legend table\n",
    "plt.legend()\n",
    "\n",
    "# Show the plot\n",
    "plt.show()"
   ]
  },
  {
   "cell_type": "code",
   "execution_count": 18,
   "metadata": {},
   "outputs": [
    {
     "data": {
      "image/png": "[encoded data removed]",
      "text/plain": [
       "<Figure size 432x288 with 1 Axes>"
      ]
     },
     "metadata": {
      "needs_background": "light"
     },
     "output_type": "display_data"
    }
   ],
   "source": [
    "plt.plot(results3.history[\"loss\"], label=\"Loss\")\n",
    "\n",
    "# Plot the the validation loss\n",
    "plt.plot(results3.history[\"val_loss\"], label=\"Validation Loss\")\n",
    "\n",
    "# Name the x and y axises\n",
    "plt.xlabel(\"Epochs\")\n",
    "plt.ylabel(\"Loss\")\n",
    "\n",
    "# Put legend table\n",
    "plt.legend()\n",
    "\n",
    "# Show the plot\n",
    "plt.show()"
   ]
  },
  {
   "cell_type": "code",
   "execution_count": 19,
   "metadata": {},
   "outputs": [
    {
     "data": {
      "image/png": "[encoded data removed]",
      "text/plain": [
       "<Figure size 432x288 with 1 Axes>"
      ]
     },
     "metadata": {
      "needs_background": "light"
     },
     "output_type": "display_data"
    }
   ],
   "source": [
    "# Plot the the training accuracy\n",
    "plt.plot(results1.history[\"categorical_accuracy\"], label=\"Categorical Accuracy\")\n",
    "\n",
    "# Plot the the validation accuracy\n",
    "plt.plot(results1.history[\"val_categorical_accuracy\"], label=\"Validation Accuracy\")\n",
    "\n",
    "# Name the x and y axises\n",
    "plt.xlabel(\"Epochs\")\n",
    "plt.ylabel(\"Accuracy\")\n",
    "# Put legend table\n",
    "plt.legend()\n",
    "\n",
    "# Show the plot\n",
    "plt.show()"
   ]
  },
  {
   "cell_type": "code",
   "execution_count": 20,
   "metadata": {},
   "outputs": [
    {
     "data": {
      "image/png": "[encoded data removed]",
      "text/plain": [
       "<Figure size 432x288 with 1 Axes>"
      ]
     },
     "metadata": {
      "needs_background": "light"
     },
     "output_type": "display_data"
    }
   ],
   "source": [
    "# Plot the the training accuracy\n",
    "plt.plot(results2.history[\"categorical_accuracy\"], label=\"Categorical Accuracy\")\n",
    "\n",
    "# Plot the the validation accuracy\n",
    "plt.plot(results2.history[\"val_categorical_accuracy\"], label=\"Validation Accuracy\")\n",
    "\n",
    "# Name the x and y axises\n",
    "plt.xlabel(\"Epochs\")\n",
    "plt.ylabel(\"Accuracy\")\n",
    "# Put legend table\n",
    "plt.legend()\n",
    "\n",
    "# Show the plot\n",
    "plt.show()"
   ]
  },
  {
   "cell_type": "code",
   "execution_count": 21,
   "metadata": {},
   "outputs": [
    {
     "data": {
      "image/png": "[encoded data removed]",
      "text/plain": [
       "<Figure size 432x288 with 1 Axes>"
      ]
     },
     "metadata": {
      "needs_background": "light"
     },
     "output_type": "display_data"
    }
   ],
   "source": [
    "# Plot the the training accuracy\n",
    "plt.plot(results3.history[\"categorical_accuracy\"], label=\"Categorical Accuracy\")\n",
    "\n",
    "# Plot the the validation accuracy\n",
    "plt.plot(results3.history[\"val_categorical_accuracy\"], label=\"Validation Accuracy\")\n",
    "\n",
    "# Name the x and y axises\n",
    "plt.xlabel(\"Epochs\")\n",
    "plt.ylabel(\"Accuracy\")\n",
    "# Put legend table\n",
    "plt.legend()\n",
    "\n",
    "# Show the plot\n",
    "plt.show()"
   ]
  },
  {
   "attachments": {},
   "cell_type": "markdown",
   "metadata": {},
   "source": [
    "<font size=\"5\">Testing Model</font>"
   ]
  },
  {
   "cell_type": "code",
   "execution_count": 22,
   "metadata": {},
   "outputs": [
    {
     "name": "stdout",
     "output_type": "stream",
     "text": [
      "34/34 [==============================] - 5s 156ms/step - loss: 0.2199 - categorical_accuracy: 0.9300\n"
     ]
    },
    {
     "data": {
      "text/plain": [
       "[0.21993359923362732, 0.9299905300140381]"
      ]
     },
     "execution_count": 22,
     "metadata": {},
     "output_type": "execute_result"
    }
   ],
   "source": [
    "# Evaluate the performance\n",
    "model1.evaluate(test_ds)"
   ]
  },
  {
   "cell_type": "code",
   "execution_count": 23,
   "metadata": {},
   "outputs": [
    {
     "name": "stdout",
     "output_type": "stream",
     "text": [
      "34/34 [==============================] - 2s 54ms/step - loss: 0.3200 - categorical_accuracy: 0.9205\n"
     ]
    },
    {
     "data": {
      "text/plain": [
       "[0.32003507018089294, 0.9205297827720642]"
      ]
     },
     "execution_count": 23,
     "metadata": {},
     "output_type": "execute_result"
    }
   ],
   "source": [
    "# Evaluate the performance\n",
    "model2.evaluate(test_ds)"
   ]
  },
  {
   "cell_type": "code",
   "execution_count": 24,
   "metadata": {},
   "outputs": [
    {
     "name": "stdout",
     "output_type": "stream",
     "text": [
      "34/34 [==============================] - 2s 55ms/step - loss: 0.1991 - categorical_accuracy: 0.9461\n"
     ]
    },
    {
     "data": {
      "text/plain": [
       "[0.19911420345306396, 0.9460737705230713]"
      ]
     },
     "execution_count": 24,
     "metadata": {},
     "output_type": "execute_result"
    }
   ],
   "source": [
    "# Evaluate the performance\n",
    "model3.evaluate(test_ds)"
   ]
  }
 ],
 "metadata": {
  "kernelspec": {
   "display_name": "Python 3.9.12 ('base')",
   "language": "python",
   "name": "python3"
  },
  "language_info": {
   "codemirror_mode": {
    "name": "ipython",
    "version": 3
   },
   "file_extension": ".py",
   "mimetype": "text/x-python",
   "name": "python",
   "nbconvert_exporter": "python",
   "pygments_lexer": "ipython3",
   "version": "3.9.12"
  },
  "orig_nbformat": 4,
  "vscode": {
   "interpreter": {
    "hash": "a5fbe1c4708df8c2d51ce54c8048efa836d2fb5a74217477505b883e66bc0223"
   }
  }
 },
 "nbformat": 4,
 "nbformat_minor": 2
}
